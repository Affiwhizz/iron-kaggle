{
 "cells": [
  {
   "cell_type": "code",
   "execution_count": 1,
   "id": "7c5cf1c5",
   "metadata": {},
   "outputs": [],
   "source": [
    "import pandas as pd\n",
    "import numpy as np\n",
    "import seaborn as sns\n",
    "import matplotlib.pyplot as plt\n",
    "\n",
    "# Pour afficher les graphiques en ligne dans un notebook Jupyter\n",
    "%matplotlib inline"
   ]
  },
  {
   "cell_type": "code",
   "execution_count": 2,
   "id": "29782b8b",
   "metadata": {},
   "outputs": [],
   "source": [
    "# Data cleaning\n",
    "sales_data = pd.read_csv(\"sales.csv\")\n",
    "sales_df = sales_data.rename(columns={\"Unnamed: 0\": \"uid\"})\n",
    "\n",
    "# X and y determination\n",
    "X = sales_df.drop(columns=[\"uid\", \"date\", \"open\", \"sales\"])\n",
    "y = sales_df[\"sales\"]\n",
    "\n",
    "# Preprocessing\n",
    "from sklearn import preprocessing\n",
    "\n",
    "converted = preprocessing.LabelEncoder()\n",
    "converted.fit(['0','a', 'b', 'c', 'd'])\n",
    "X[\"state_holiday\"] = converted.transform(X[\"state_holiday\"])"
   ]
  },
  {
   "cell_type": "code",
   "execution_count": 3,
   "id": "3bd3505a",
   "metadata": {},
   "outputs": [
    {
     "data": {
      "application/vnd.microsoft.datawrangler.viewer.v0+json": {
       "columns": [
        {
         "name": "index",
         "rawType": "int64",
         "type": "integer"
        },
        {
         "name": "store_ID",
         "rawType": "int64",
         "type": "integer"
        },
        {
         "name": "day_of_week",
         "rawType": "int64",
         "type": "integer"
        },
        {
         "name": "nb_customers_on_day",
         "rawType": "int64",
         "type": "integer"
        },
        {
         "name": "promotion",
         "rawType": "int64",
         "type": "integer"
        },
        {
         "name": "state_holiday",
         "rawType": "int64",
         "type": "integer"
        },
        {
         "name": "school_holiday",
         "rawType": "int64",
         "type": "integer"
        }
       ],
       "conversionMethod": "pd.DataFrame",
       "ref": "e4d9d80d-c943-4f48-9fae-99fe9c4ffa9c",
       "rows": [
        [
         "0",
         "366",
         "4",
         "517",
         "0",
         "0",
         "0"
        ],
        [
         "1",
         "394",
         "6",
         "694",
         "0",
         "0",
         "0"
        ],
        [
         "2",
         "807",
         "4",
         "970",
         "1",
         "0",
         "0"
        ],
        [
         "3",
         "802",
         "2",
         "473",
         "1",
         "0",
         "0"
        ],
        [
         "4",
         "726",
         "4",
         "1068",
         "1",
         "0",
         "0"
        ],
        [
         "5",
         "674",
         "2",
         "1016",
         "1",
         "0",
         "0"
        ],
        [
         "6",
         "659",
         "7",
         "0",
         "0",
         "0",
         "0"
        ],
        [
         "7",
         "27",
         "3",
         "1106",
         "1",
         "0",
         "1"
        ],
        [
         "8",
         "347",
         "6",
         "448",
         "0",
         "0",
         "0"
        ],
        [
         "9",
         "288",
         "2",
         "291",
         "0",
         "0",
         "0"
        ],
        [
         "10",
         "273",
         "7",
         "0",
         "0",
         "0",
         "0"
        ],
        [
         "11",
         "870",
         "5",
         "839",
         "0",
         "0",
         "0"
        ],
        [
         "12",
         "703",
         "6",
         "215",
         "0",
         "0",
         "0"
        ],
        [
         "13",
         "578",
         "2",
         "824",
         "0",
         "0",
         "0"
        ],
        [
         "14",
         "447",
         "1",
         "773",
         "1",
         "0",
         "1"
        ],
        [
         "15",
         "382",
         "3",
         "957",
         "1",
         "0",
         "0"
        ],
        [
         "16",
         "66",
         "3",
         "442",
         "0",
         "0",
         "0"
        ],
        [
         "17",
         "437",
         "6",
         "1239",
         "0",
         "0",
         "0"
        ],
        [
         "18",
         "767",
         "7",
         "0",
         "0",
         "0",
         "0"
        ],
        [
         "19",
         "142",
         "3",
         "609",
         "1",
         "0",
         "0"
        ],
        [
         "20",
         "369",
         "4",
         "501",
         "0",
         "0",
         "0"
        ],
        [
         "21",
         "171",
         "6",
         "641",
         "0",
         "0",
         "0"
        ],
        [
         "22",
         "499",
         "6",
         "925",
         "0",
         "0",
         "0"
        ],
        [
         "23",
         "235",
         "3",
         "488",
         "1",
         "0",
         "0"
        ],
        [
         "24",
         "936",
         "1",
         "1096",
         "1",
         "0",
         "0"
        ],
        [
         "25",
         "533",
         "3",
         "774",
         "0",
         "0",
         "0"
        ],
        [
         "26",
         "638",
         "3",
         "533",
         "1",
         "0",
         "0"
        ],
        [
         "27",
         "632",
         "1",
         "1142",
         "1",
         "0",
         "0"
        ],
        [
         "28",
         "849",
         "5",
         "997",
         "1",
         "0",
         "0"
        ],
        [
         "29",
         "5",
         "3",
         "658",
         "1",
         "0",
         "1"
        ],
        [
         "30",
         "626",
         "4",
         "726",
         "0",
         "0",
         "0"
        ],
        [
         "31",
         "328",
         "6",
         "402",
         "0",
         "0",
         "0"
        ],
        [
         "32",
         "943",
         "1",
         "538",
         "0",
         "0",
         "0"
        ],
        [
         "33",
         "78",
         "2",
         "568",
         "1",
         "0",
         "0"
        ],
        [
         "34",
         "534",
         "7",
         "0",
         "0",
         "0",
         "0"
        ],
        [
         "35",
         "514",
         "7",
         "0",
         "0",
         "0",
         "0"
        ],
        [
         "36",
         "800",
         "5",
         "460",
         "0",
         "0",
         "1"
        ],
        [
         "37",
         "699",
         "6",
         "791",
         "0",
         "0",
         "0"
        ],
        [
         "38",
         "632",
         "3",
         "924",
         "1",
         "0",
         "1"
        ],
        [
         "39",
         "1043",
         "7",
         "0",
         "0",
         "0",
         "0"
        ],
        [
         "40",
         "870",
         "5",
         "914",
         "1",
         "0",
         "0"
        ],
        [
         "41",
         "1083",
         "1",
         "266",
         "0",
         "0",
         "0"
        ],
        [
         "42",
         "996",
         "6",
         "655",
         "0",
         "0",
         "0"
        ],
        [
         "43",
         "716",
         "2",
         "383",
         "0",
         "0",
         "0"
        ],
        [
         "44",
         "1093",
         "7",
         "0",
         "0",
         "0",
         "0"
        ],
        [
         "45",
         "420",
         "2",
         "386",
         "0",
         "0",
         "0"
        ],
        [
         "46",
         "789",
         "3",
         "541",
         "1",
         "0",
         "0"
        ],
        [
         "47",
         "924",
         "4",
         "375",
         "0",
         "0",
         "0"
        ],
        [
         "48",
         "687",
         "3",
         "582",
         "0",
         "0",
         "0"
        ],
        [
         "49",
         "374",
         "2",
         "911",
         "0",
         "0",
         "1"
        ]
       ],
       "shape": {
        "columns": 6,
        "rows": 640840
       }
      },
      "text/html": [
       "<div>\n",
       "<style scoped>\n",
       "    .dataframe tbody tr th:only-of-type {\n",
       "        vertical-align: middle;\n",
       "    }\n",
       "\n",
       "    .dataframe tbody tr th {\n",
       "        vertical-align: top;\n",
       "    }\n",
       "\n",
       "    .dataframe thead th {\n",
       "        text-align: right;\n",
       "    }\n",
       "</style>\n",
       "<table border=\"1\" class=\"dataframe\">\n",
       "  <thead>\n",
       "    <tr style=\"text-align: right;\">\n",
       "      <th></th>\n",
       "      <th>store_ID</th>\n",
       "      <th>day_of_week</th>\n",
       "      <th>nb_customers_on_day</th>\n",
       "      <th>promotion</th>\n",
       "      <th>state_holiday</th>\n",
       "      <th>school_holiday</th>\n",
       "    </tr>\n",
       "  </thead>\n",
       "  <tbody>\n",
       "    <tr>\n",
       "      <th>0</th>\n",
       "      <td>366</td>\n",
       "      <td>4</td>\n",
       "      <td>517</td>\n",
       "      <td>0</td>\n",
       "      <td>0</td>\n",
       "      <td>0</td>\n",
       "    </tr>\n",
       "    <tr>\n",
       "      <th>1</th>\n",
       "      <td>394</td>\n",
       "      <td>6</td>\n",
       "      <td>694</td>\n",
       "      <td>0</td>\n",
       "      <td>0</td>\n",
       "      <td>0</td>\n",
       "    </tr>\n",
       "    <tr>\n",
       "      <th>2</th>\n",
       "      <td>807</td>\n",
       "      <td>4</td>\n",
       "      <td>970</td>\n",
       "      <td>1</td>\n",
       "      <td>0</td>\n",
       "      <td>0</td>\n",
       "    </tr>\n",
       "    <tr>\n",
       "      <th>3</th>\n",
       "      <td>802</td>\n",
       "      <td>2</td>\n",
       "      <td>473</td>\n",
       "      <td>1</td>\n",
       "      <td>0</td>\n",
       "      <td>0</td>\n",
       "    </tr>\n",
       "    <tr>\n",
       "      <th>4</th>\n",
       "      <td>726</td>\n",
       "      <td>4</td>\n",
       "      <td>1068</td>\n",
       "      <td>1</td>\n",
       "      <td>0</td>\n",
       "      <td>0</td>\n",
       "    </tr>\n",
       "    <tr>\n",
       "      <th>...</th>\n",
       "      <td>...</td>\n",
       "      <td>...</td>\n",
       "      <td>...</td>\n",
       "      <td>...</td>\n",
       "      <td>...</td>\n",
       "      <td>...</td>\n",
       "    </tr>\n",
       "    <tr>\n",
       "      <th>640835</th>\n",
       "      <td>409</td>\n",
       "      <td>6</td>\n",
       "      <td>483</td>\n",
       "      <td>0</td>\n",
       "      <td>0</td>\n",
       "      <td>0</td>\n",
       "    </tr>\n",
       "    <tr>\n",
       "      <th>640836</th>\n",
       "      <td>97</td>\n",
       "      <td>1</td>\n",
       "      <td>987</td>\n",
       "      <td>1</td>\n",
       "      <td>0</td>\n",
       "      <td>0</td>\n",
       "    </tr>\n",
       "    <tr>\n",
       "      <th>640837</th>\n",
       "      <td>987</td>\n",
       "      <td>1</td>\n",
       "      <td>925</td>\n",
       "      <td>0</td>\n",
       "      <td>0</td>\n",
       "      <td>0</td>\n",
       "    </tr>\n",
       "    <tr>\n",
       "      <th>640838</th>\n",
       "      <td>1084</td>\n",
       "      <td>4</td>\n",
       "      <td>725</td>\n",
       "      <td>0</td>\n",
       "      <td>0</td>\n",
       "      <td>0</td>\n",
       "    </tr>\n",
       "    <tr>\n",
       "      <th>640839</th>\n",
       "      <td>695</td>\n",
       "      <td>7</td>\n",
       "      <td>0</td>\n",
       "      <td>0</td>\n",
       "      <td>0</td>\n",
       "      <td>0</td>\n",
       "    </tr>\n",
       "  </tbody>\n",
       "</table>\n",
       "<p>640840 rows × 6 columns</p>\n",
       "</div>"
      ],
      "text/plain": [
       "        store_ID  day_of_week  nb_customers_on_day  promotion  state_holiday  \\\n",
       "0            366            4                  517          0              0   \n",
       "1            394            6                  694          0              0   \n",
       "2            807            4                  970          1              0   \n",
       "3            802            2                  473          1              0   \n",
       "4            726            4                 1068          1              0   \n",
       "...          ...          ...                  ...        ...            ...   \n",
       "640835       409            6                  483          0              0   \n",
       "640836        97            1                  987          1              0   \n",
       "640837       987            1                  925          0              0   \n",
       "640838      1084            4                  725          0              0   \n",
       "640839       695            7                    0          0              0   \n",
       "\n",
       "        school_holiday  \n",
       "0                    0  \n",
       "1                    0  \n",
       "2                    0  \n",
       "3                    0  \n",
       "4                    0  \n",
       "...                ...  \n",
       "640835               0  \n",
       "640836               0  \n",
       "640837               0  \n",
       "640838               0  \n",
       "640839               0  \n",
       "\n",
       "[640840 rows x 6 columns]"
      ]
     },
     "execution_count": 3,
     "metadata": {},
     "output_type": "execute_result"
    }
   ],
   "source": [
    "X"
   ]
  },
  {
   "cell_type": "code",
   "execution_count": 4,
   "id": "1abccc7c",
   "metadata": {},
   "outputs": [],
   "source": [
    "# Standardization\n",
    "from sklearn.preprocessing import MinMaxScaler\n",
    "\n",
    "scaler = MinMaxScaler()\n",
    "X = scaler.fit_transform(X)"
   ]
  },
  {
   "cell_type": "code",
   "execution_count": 10,
   "id": "7cf9c077",
   "metadata": {},
   "outputs": [
    {
     "name": "stdout",
     "output_type": "stream",
     "text": [
      "R-squared: 0.9105\n",
      "MSE: 1.3243\n",
      "R-squared: 0.9125\n",
      "MSE: 1.3077\n",
      "R-squared: 0.9121\n",
      "MSE: 1.3064\n",
      "R-squared: 0.9124\n",
      "MSE: 1.2929\n",
      "R-squared: 0.9144\n",
      "MSE: 1.2678\n",
      "Mean accuracy: 0.17044191998002622\n"
     ]
    }
   ],
   "source": [
    "# Data split\n",
    "from sklearn.model_selection import KFold\n",
    "from sklearn.metrics import accuracy_score\n",
    "from sklearn.neighbors import KNeighborsClassifier\n",
    "from sklearn.metrics import mean_squared_error, r2_score, mean_absolute_percentage_error\n",
    "\n",
    "kf = KFold(n_splits=5, shuffle=False)\n",
    "nbSplits = kf.get_n_splits()\n",
    "\n",
    "acc_snooping = np.zeros((nbSplits,)) #\"snooping\" refers to a scenario where information from outside the training dataset is inadvertently used to make decisions about the model.\n",
    "i=0\n",
    "\n",
    "#We will build the predicted y from the partial predictions on the test of each of the folds\n",
    "yhat = y.copy()\n",
    "\n",
    "for i, (train_index, test_index) in enumerate(kf.split(X)):\n",
    "    X_train, X_test = X[train_index], X[test_index]\n",
    "    y_train, y_test = y[train_index], y[test_index]\n",
    "    dt = KNeighborsClassifier(1)\n",
    "    dt.fit(X_train,y_train)\n",
    "    yhat[test_index] = dt.predict(X_test)\n",
    "    acc_snooping[i] = accuracy_score(yhat[test_index], y_test)\n",
    "\n",
    "    print(f\"R-squared: {(r2_score(y_test, yhat[test_index])):.4f}\")\n",
    "    print(f\"MSE: {( mean_squared_error(y_test, yhat[test_index]) / 1_000_000):.4f}\")\n",
    "\n",
    "    i=i+1\n",
    "\n",
    "print ('Mean accuracy: '+ str(np.mean(acc_snooping)))"
   ]
  },
  {
   "cell_type": "code",
   "execution_count": 11,
   "id": "98682f11",
   "metadata": {},
   "outputs": [
    {
     "name": "stdout",
     "output_type": "stream",
     "text": [
      "None\n"
     ]
    }
   ],
   "source": [
    "#Save the model to disk (it can alternatively be stored in a string)\n",
    "import pickle\n",
    "ofname = open('k_fold_v1.pkl', 'wb')\n",
    "s = pickle.dump(kf,ofname)\n",
    "ofname.close()\n",
    "print (s)"
   ]
  },
  {
   "cell_type": "code",
   "execution_count": 12,
   "id": "162e0f97",
   "metadata": {},
   "outputs": [],
   "source": [
    "ofname = open('k_fold_v1.pkl','rb') #Open in binary format. You never know how it was saved.\n",
    "kf_import = pickle.load(ofname)"
   ]
  },
  {
   "cell_type": "code",
   "execution_count": 13,
   "id": "9f232b4d",
   "metadata": {},
   "outputs": [
    {
     "ename": "AttributeError",
     "evalue": "'KFold' object has no attribute 'predict'",
     "output_type": "error",
     "traceback": [
      "\u001b[0;31m---------------------------------------------------------------------------\u001b[0m",
      "\u001b[0;31mAttributeError\u001b[0m                            Traceback (most recent call last)",
      "Cell \u001b[0;32mIn[13], line 1\u001b[0m\n\u001b[0;32m----> 1\u001b[0m y_pred_import \u001b[38;5;241m=\u001b[39m \u001b[43mkf_import\u001b[49m\u001b[38;5;241;43m.\u001b[39;49m\u001b[43mpredict\u001b[49m(X_test)\n",
      "\u001b[0;31mAttributeError\u001b[0m: 'KFold' object has no attribute 'predict'"
     ]
    }
   ],
   "source": [
    "y_pred_import = kf_import.predict(X_test)"
   ]
  }
 ],
 "metadata": {
  "kernelspec": {
   "display_name": "Python 3",
   "language": "python",
   "name": "python3"
  },
  "language_info": {
   "codemirror_mode": {
    "name": "ipython",
    "version": 3
   },
   "file_extension": ".py",
   "mimetype": "text/x-python",
   "name": "python",
   "nbconvert_exporter": "python",
   "pygments_lexer": "ipython3",
   "version": "3.9.6"
  }
 },
 "nbformat": 4,
 "nbformat_minor": 5
}
